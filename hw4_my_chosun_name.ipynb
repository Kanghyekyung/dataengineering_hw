{
 "cells": [
  {
   "cell_type": "markdown",
   "id": "214f25de-d793-4245-829c-081a6efd0545",
   "metadata": {},
   "source": [
    "# 과제4: 나의 조선시대 이름 찾기"
   ]
  },
  {
   "cell_type": "code",
   "execution_count": 1,
   "id": "a3f1c9fd-509d-4c71-a90f-07749e45e050",
   "metadata": {},
   "outputs": [],
   "source": [
    "import numpy as np\n",
    "import pandas as pd"
   ]
  },
  {
   "cell_type": "code",
   "execution_count": 4,
   "id": "9cdfa2d9-c441-4b1f-980b-c7797c7cac1f",
   "metadata": {},
   "outputs": [
    {
     "data": {
      "text/plain": [
       "['쌍', '쇠', '복', '돌', '팽', '육', '쌍', '개', '칠', '갑', '삼', '방']"
      ]
     },
     "execution_count": 4,
     "metadata": {},
     "output_type": "execute_result"
    }
   ],
   "source": [
    "first = ['쌍','쇠','복','돌','팽','육','쌍','개','칠','갑','삼','방']\n",
    "first"
   ]
  },
  {
   "cell_type": "code",
   "execution_count": 9,
   "id": "0d0a81c3-3ce6-4611-8bcc-5976a6ef6042",
   "metadata": {},
   "outputs": [
    {
     "data": {
      "text/plain": [
       "['봉',\n",
       " '구',\n",
       " '욕',\n",
       " '포',\n",
       " '똥',\n",
       " '삼',\n",
       " '식',\n",
       " '석',\n",
       " '놈',\n",
       " '님',\n",
       " '년',\n",
       " '돌',\n",
       " '단',\n",
       " '득',\n",
       " '방',\n",
       " '질',\n",
       " '장',\n",
       " '걸',\n",
       " '래',\n",
       " '룡',\n",
       " '동',\n",
       " '순',\n",
       " '자',\n",
       " '박',\n",
       " '창',\n",
       " '언',\n",
       " '것',\n",
       " '포',\n",
       " '만',\n",
       " '단',\n",
       " '국']"
      ]
     },
     "execution_count": 9,
     "metadata": {},
     "output_type": "execute_result"
    }
   ],
   "source": [
    "second = ['봉','구','욕','포','똥','삼','식','석','놈','님','년','돌','단','득','방','질','장','걸','래','룡','동','순','자','박','창','언','것','포','만','단','국']\n",
    "second"
   ]
  },
  {
   "cell_type": "code",
   "execution_count": 13,
   "id": "5a12d2ed-7c8a-4cb2-987a-f9dd94754e56",
   "metadata": {},
   "outputs": [],
   "source": [
    "def get_my_chosun_name(family_name,month,day):\n",
    "    chosun_name = family_name + first[month-1] + second[day-1]\n",
    "    print(\"당신의 조선시대 이름은 \", chosun_name ,\" 입니다.\")"
   ]
  },
  {
   "cell_type": "code",
   "execution_count": 12,
   "id": "2527f6d9-786a-41e8-a0e5-1b3b5d720443",
   "metadata": {},
   "outputs": [
    {
     "name": "stdout",
     "output_type": "stream",
     "text": [
      "당신의 조선시대 이름은  강복놈  입니다.\n"
     ]
    }
   ],
   "source": [
    "get_my_chosun_name('강',3,9)"
   ]
  },
  {
   "cell_type": "code",
   "execution_count": null,
   "id": "0ce4195f-5042-4d01-a2ae-f4d6b4aad87d",
   "metadata": {},
   "outputs": [],
   "source": []
  }
 ],
 "metadata": {
  "kernelspec": {
   "display_name": "Python 3 (ipykernel)",
   "language": "python",
   "name": "python3"
  },
  "language_info": {
   "codemirror_mode": {
    "name": "ipython",
    "version": 3
   },
   "file_extension": ".py",
   "mimetype": "text/x-python",
   "name": "python",
   "nbconvert_exporter": "python",
   "pygments_lexer": "ipython3",
   "version": "3.9.12"
  }
 },
 "nbformat": 4,
 "nbformat_minor": 5
}
