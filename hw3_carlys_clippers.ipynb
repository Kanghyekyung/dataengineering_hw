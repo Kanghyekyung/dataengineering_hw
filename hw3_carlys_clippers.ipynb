{
 "cells": [
  {
   "cell_type": "markdown",
   "id": "67e698a1-e110-41fe-8119-3970b3f994e9",
   "metadata": {},
   "source": [
    "# 과제3: Carly's Clippers"
   ]
  },
  {
   "cell_type": "code",
   "execution_count": 13,
   "id": "adceef4c-5ca6-47f9-a0e8-bf01bd820d58",
   "metadata": {},
   "outputs": [],
   "source": [
    "import numpy as np\n",
    "import pandas as pd"
   ]
  },
  {
   "cell_type": "markdown",
   "id": "97ba792e-75cf-4175-b74d-b35bd053c286",
   "metadata": {},
   "source": [
    "## Prices and Cuts"
   ]
  },
  {
   "cell_type": "code",
   "execution_count": 14,
   "id": "02faa2c8-0c72-4202-aa37-2ad2c6512f28",
   "metadata": {},
   "outputs": [],
   "source": [
    "hairstyles = [\"bouffant\", \"pixie\", \" dreadlocks\", \"crew\", \"bowl\",\"bob\", \"mohawk\",\"flattop\"]\n",
    "\n",
    "prices = [30,25,40,20,20,35,50,35]\n",
    "\n",
    "last_week = [2,3,5,8,4,4,6,2]"
   ]
  },
  {
   "cell_type": "code",
   "execution_count": 15,
   "id": "5fd9d477-636c-40ef-8bb0-8c4dbf425389",
   "metadata": {},
   "outputs": [
    {
     "name": "stdout",
     "output_type": "stream",
     "text": [
      "Average price is  31.875\n"
     ]
    }
   ],
   "source": [
    "total_price = 0\n",
    "\n",
    "for i in range(len(prices)):\n",
    "    total_price += prices[i]\n",
    "    \n",
    "average_price = total_price/len(prices)\n",
    "print(\"Average price is \" , average_price)"
   ]
  },
  {
   "cell_type": "code",
   "execution_count": 16,
   "id": "3bf59205-2c98-43b1-9389-390098453996",
   "metadata": {},
   "outputs": [
    {
     "name": "stdout",
     "output_type": "stream",
     "text": [
      "[25, 20, 35, 15, 15, 30, 45, 30]\n"
     ]
    }
   ],
   "source": [
    "new_prices = [prices[i]-5 for i in range(len(prices))]\n",
    "print(new_prices)"
   ]
  },
  {
   "cell_type": "markdown",
   "id": "12a40323-b021-410d-98ff-a2f041400197",
   "metadata": {},
   "source": [
    "## Revenue"
   ]
  },
  {
   "cell_type": "code",
   "execution_count": 17,
   "id": "63aaa514-fb1e-457a-a335-3d48d1581d26",
   "metadata": {},
   "outputs": [
    {
     "name": "stdout",
     "output_type": "stream",
     "text": [
      "Average daily revenue is  155.0\n"
     ]
    }
   ],
   "source": [
    "total_revenue = 0\n",
    "\n",
    "for i  in range(len(hairstyles)):\n",
    "    total_revenue += prices[i] * last_week[i]\n",
    "\n",
    "average_daily_revenue = total_revenue/7\n",
    "print(\"Average daily revenue is \", average_daily_revenue)"
   ]
  },
  {
   "cell_type": "code",
   "execution_count": 18,
   "id": "696f636b-3b2e-488e-91cb-ba282db5a881",
   "metadata": {},
   "outputs": [
    {
     "name": "stdout",
     "output_type": "stream",
     "text": [
      "['bouffant', 'pixie', 'crew', 'bowl']\n"
     ]
    }
   ],
   "source": [
    "cuts_under_30 = [hairstyles[i] for i in range(len(new_prices)-1) if new_prices[i] <30]\n",
    "print(cuts_under_30)"
   ]
  }
 ],
 "metadata": {
  "kernelspec": {
   "display_name": "Python 3 (ipykernel)",
   "language": "python",
   "name": "python3"
  },
  "language_info": {
   "codemirror_mode": {
    "name": "ipython",
    "version": 3
   },
   "file_extension": ".py",
   "mimetype": "text/x-python",
   "name": "python",
   "nbconvert_exporter": "python",
   "pygments_lexer": "ipython3",
   "version": "3.9.12"
  }
 },
 "nbformat": 4,
 "nbformat_minor": 5
}
